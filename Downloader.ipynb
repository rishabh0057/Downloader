{
 "cells": [
  {
   "cell_type": "code",
   "execution_count": 3,
   "metadata": {},
   "outputs": [],
   "source": [
    "import os\n",
    "import requests as req\n",
    "class Downloader:\n",
    "\n",
    "    'Download http files'\n",
    "    def __init__(self,url,filename):\n",
    "        self.url=url\n",
    "        self.filename=filename\n",
    "        self.res=req.get(url,stream=True)\n",
    "        self.size='%.2f mb' % (int(self.res.headers['content-length'])/(1000**2))\n",
    "        self.format=self.res.headers['content-type'].split('/')[-1]\n",
    "        print('filename:{}.{} \\nfilesize:{}'.format(self.filename,self.format,self.size))\n",
    "    \n",
    "    def download(self):\n",
    "        if(not os.path.exists('downloaded_files')):\n",
    "            os.mkdir('downloaded_files')\n",
    "        with open('downloaded_files/{}.{}'.format(self.filename, self.format),'wb') as f:\n",
    "            for chunk in self.res.iter_content(chunk_size=1024):\n",
    "                if(chunk):\n",
    "                    f.write(chunk)"
   ]
  },
  {
   "cell_type": "code",
   "execution_count": 4,
   "metadata": {},
   "outputs": [
    {
     "name": "stdout",
     "output_type": "stream",
     "text": [
      "filename:cahr.jpeg \n",
      "filesize:0.33 mb\n"
     ]
    }
   ],
   "source": [
    "d1=Downloader('http://farm5.static.flickr.com/4028/4640892360_cd6d91c024_b.jpg','cahr')"
   ]
  },
  {
   "cell_type": "code",
   "execution_count": 5,
   "metadata": {},
   "outputs": [],
   "source": [
    "d1.download()"
   ]
  },
  {
   "cell_type": "code",
   "execution_count": null,
   "metadata": {},
   "outputs": [],
   "source": []
  }
 ],
 "metadata": {
  "kernelspec": {
   "display_name": "Python 3",
   "language": "python",
   "name": "python3"
  },
  "language_info": {
   "codemirror_mode": {
    "name": "ipython",
    "version": 3
   },
   "file_extension": ".py",
   "mimetype": "text/x-python",
   "name": "python",
   "nbconvert_exporter": "python",
   "pygments_lexer": "ipython3",
   "version": "3.7.0"
  }
 },
 "nbformat": 4,
 "nbformat_minor": 2
}
